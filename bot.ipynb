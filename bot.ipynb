{
 "cells": [
  {
   "cell_type": "markdown",
   "metadata": {},
   "source": [
    "# import some useful libraries"
   ]
  },
  {
   "cell_type": "code",
   "execution_count": 1,
   "metadata": {},
   "outputs": [],
   "source": [
    "import subprocess as sp\n",
    "import nltk\n",
    "import warnings\n",
    "import random\n",
    "import string\n",
    "from sklearn.feature_extraction.text import TfidfVectorizer\n",
    "from sklearn.metrics.pairwise import cosine_similarity"
   ]
  },
  {
   "cell_type": "markdown",
   "metadata": {},
   "source": [
    "# Ignore filter warnings"
   ]
  },
  {
   "cell_type": "code",
   "execution_count": 2,
   "metadata": {},
   "outputs": [],
   "source": [
    "warnings.filterwarnings(\"ignore\")"
   ]
  },
  {
   "cell_type": "markdown",
   "metadata": {},
   "source": [
    "# Some greeting Inputs and thier responses"
   ]
  },
  {
   "cell_type": "code",
   "execution_count": 3,
   "metadata": {},
   "outputs": [],
   "source": [
    "GREETING_INPUTS = (\"hello\", \"hi\", \"greetings\", \"sup\", \"whats up\",\"hey\",)\n",
    "GREETING_RESPONSES = [\"hi\", \"hey\", \"*nods*\", \"hi there\", \"hello\", \"I am glad! You are talking to me\"]\n",
    "LEMER = nltk.stem.WordNetLemmatizer()"
   ]
  },
  {
   "cell_type": "markdown",
   "metadata": {},
   "source": [
    "# Lematization of tokens"
   ]
  },
  {
   "cell_type": "code",
   "execution_count": 4,
   "metadata": {},
   "outputs": [],
   "source": [
    "def lematize_tokens(tokens):\n",
    "    return [LEMER.lemmatize(token) for token in tokens]"
   ]
  },
  {
   "cell_type": "markdown",
   "metadata": {},
   "source": [
    "# Normalization of tokens"
   ]
  },
  {
   "cell_type": "code",
   "execution_count": 5,
   "metadata": {},
   "outputs": [],
   "source": [
    "def lematization_normalizer(text):\n",
    "    return lematize_tokens(nltk.word_tokenize(text.lower().translate(remove_punct_dict)))"
   ]
  },
  {
   "cell_type": "markdown",
   "metadata": {},
   "source": [
    "# Spliting Sentences"
   ]
  },
  {
   "cell_type": "code",
   "execution_count": 6,
   "metadata": {},
   "outputs": [],
   "source": [
    "def greeting(sentence):\n",
    "    for word in sentence.split():\n",
    "        if word.lower() in GREETING_INPUTS:\n",
    "            return random.choice(GREETING_RESPONSES)"
   ]
  },
  {
   "cell_type": "markdown",
   "metadata": {},
   "source": [
    "# Response function"
   ]
  },
  {
   "cell_type": "code",
   "execution_count": 7,
   "metadata": {},
   "outputs": [],
   "source": [
    "def response(user_response):\n",
    "    robo_response=''\n",
    "    sentence_tokens.append(user_response)\n",
    "    TfidfVec = TfidfVectorizer(tokenizer=lematization_normalizer, stop_words='english')\n",
    "    tfidf = TfidfVec.fit_transform(sentence_tokens)\n",
    "    vals = cosine_similarity(tfidf[-1], tfidf)\n",
    "    idx=vals.argsort()[0][-2]\n",
    "    flat = vals.flatten()\n",
    "    flat.sort()\n",
    "    req_tfidf = flat[-2]\n",
    "    if(req_tfidf==0):\n",
    "        robo_response=robo_response+\"I am sorry! I don't understand you\"\n",
    "        return robo_response\n",
    "    else:\n",
    "        robo_response = robo_response+sentence_tokens[idx]\n",
    "        return robo_response\n"
   ]
  },
  {
   "cell_type": "markdown",
   "metadata": {},
   "source": [
    "# File path"
   ]
  },
  {
   "cell_type": "code",
   "execution_count": 8,
   "metadata": {},
   "outputs": [
    {
     "name": "stderr",
     "output_type": "stream",
     "text": [
      "[nltk_data] Downloading package punkt to /home/pradeep/nltk_data...\n",
      "[nltk_data]   Package punkt is already up-to-date!\n",
      "[nltk_data] Downloading package wordnet to /home/pradeep/nltk_data...\n",
      "[nltk_data]   Package wordnet is already up-to-date!\n"
     ]
    },
    {
     "name": "stdout",
     "output_type": "stream",
     "text": [
      "\n",
      "                                                                    \n",
      "\n",
      "\n",
      "       \n",
      "CDAC-BOT: My name is CDAC-BOT. I will answer most of your queries about CDAC. If you want to exit, type Bye!\n",
      "You: hello\n",
      "CDAC-BOT: I am glad! You are talking to me\n",
      "\n",
      "You: what is cdac\n",
      "CDAC-BOT: c-dac atc centre for development of advanced computing (c-dac) is the premier r&d organization of the department of electronics and information technology (deity), ministry of communications & information technology (mcit) for carrying out r&d in it, electronics and associated areas.\n",
      "\n",
      "You: tell me about foundation and programms\n",
      "CDAC-BOT: foundation:\n",
      "founded by its parent company cdac pune, ministry of electronics and information technology, of the government of india in 1988.\n",
      "\n",
      "programms:\n",
      "cdac jaipur offers study programmes in it and electronics like- data science, artificial intelligence and computer vision, machine learning with nlp, software testing, python, java, php, bigdata analysis, iot with industrial application, c_c++_dsa, reactjs, angular js with ionic, salesforce with crm, cyber security, ios development, android development.\n",
      "\n",
      "You: thanks\n",
      "CDAC-BOT: You are welcome..\n"
     ]
    }
   ],
   "source": [
    "with open(\"CDAC\", \"r\", errors=\"ignore\") as f:\n",
    "    raw = f.read().lower()\n",
    "    nltk.download('punkt')  # first-time use only\n",
    "    nltk.download('wordnet')  # first-time use only\n",
    "    sentence_tokens = nltk.sent_tokenize(raw)\n",
    "    word_tokens = nltk.word_tokenize(raw)\n",
    "    remove_punct_dict = dict((ord(punct), None) for punct in string.punctuation)\n",
    "    flag = True\n",
    "    tmp = sp.call('cls',shell=True)\n",
    "    print('''\n",
    "                                                                    \n",
    "\n",
    "\n",
    "       ''')\n",
    "    print(\"CDAC-BOT: My name is CDAC-BOT. I will answer most of your queries about CDAC. If you want to exit, type Bye!\")\n",
    "    while (flag == True):\n",
    "        print(\"You: \", end=\"\")\n",
    "        user_response = input()\n",
    "        user_response = user_response.lower()\n",
    "        if (user_response != 'bye'):\n",
    "            if (user_response == 'thanks' or user_response == 'thank you'):\n",
    "                flag = False\n",
    "                print(\"CDAC-BOT: You are welcome..\")\n",
    "            else:\n",
    "                if (greeting(user_response) != None):\n",
    "                    print(\"CDAC-BOT: \" + greeting(user_response) + \"\\n\")\n",
    "                else:\n",
    "                    print(\"CDAC-BOT: \", end=\"\")\n",
    "                    print(response(user_response)  + \"\\n\")\n",
    "                    sentence_tokens.remove(user_response)\n",
    "        else:\n",
    "            flag = False\n",
    "            print(\"CDAC-BOT: Bye! take care..\")\n"
   ]
  },
  {
   "cell_type": "code",
   "execution_count": null,
   "metadata": {},
   "outputs": [],
   "source": []
  }
 ],
 "metadata": {
  "kernelspec": {
   "display_name": "Python 3",
   "language": "python",
   "name": "python3"
  },
  "language_info": {
   "codemirror_mode": {
    "name": "ipython",
    "version": 3
   },
   "file_extension": ".py",
   "mimetype": "text/x-python",
   "name": "python",
   "nbconvert_exporter": "python",
   "pygments_lexer": "ipython3",
   "version": "3.6.9"
  }
 },
 "nbformat": 4,
 "nbformat_minor": 4
}
